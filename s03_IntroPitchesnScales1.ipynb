{
 "cells": [
  {
   "cell_type": "markdown",
   "metadata": {},
   "source": [
    "##  Pitches, scales, elements, frequencies, etc... \n",
    "### (1) Frequencies and tonal relationships\n",
    "### (2) Visualizing tonal relationships \n",
    "### (3) Pitch wheels\n",
    "### (4) Modes -- Dictionaries and lists\n",
    "### (5) Generating tones (without RTcmix)\n",
    "### (6) Generating RTcmix scores from lists of pitches"
   ]
  },
  {
   "cell_type": "code",
   "execution_count": 21,
   "metadata": {},
   "outputs": [
    {
     "name": "stdout",
     "output_type": "stream",
     "text": [
      "CMIX not found, using pyGoRTcmix instead.\n"
     ]
    }
   ],
   "source": [
    "import numpy as np\n",
    "import matplotlib.pyplot as plt\n",
    "%matplotlib inline\n",
    "\n",
    "from subprocess import Popen\n",
    "import subprocess as sp\n",
    "import os\n",
    "import commands\n",
    "import librosa\n",
    "import sys\n",
    "sys.path.append('./modules/')\n",
    "\n",
    "# _ac stands for autocheck\n",
    "cmixStatus, cmixResult = commands.getstatusoutput(\"CMIX\")\n",
    "if cmixStatus == 0:\n",
    "    cmixInstalled = True\n",
    "    print(\"CMIX found.\")\n",
    "else:\n",
    "    cmixInstalled = False\n",
    "    print(\"CMIX not found, using pyGoRTcmix instead.\")"
   ]
  },
  {
   "cell_type": "markdown",
   "metadata": {},
   "source": [
    "# ==============================================\n",
    "# (1) frequencies and tonal relationships"
   ]
  },
  {
   "cell_type": "markdown",
   "metadata": {},
   "source": [
    "In s00_make_simple_sounds.ipynb, we made simple tones and chords from sine wave oscillators. \n",
    "Here, we will start with a little bit of music theory,\n",
    "using loops to make sequences of tones of different pitch (scales! arpeggios!)\n",
    "and then do the same thing using RTcmix, as an introduction. \n",
    "\n",
    "This notebook also sneaks in some intro to essential python elements: dictionaries, functions and loops. \n",
    "\n",
    "Refs: \n",
    "Hermann Helmholtz \"On the Sensations of Tone\" 1863 !! \n",
    "Gareth Loy \"Musimathics, vol. 1\" 2006"
   ]
  },
  {
   "cell_type": "code",
   "execution_count": 22,
   "metadata": {},
   "outputs": [
    {
     "name": "stdout",
     "output_type": "stream",
     "text": [
      "[ 1046.5  2093.   4186.   8372. ]\n",
      "[ 1046.5  2093.   4186.   8372. ]\n"
     ]
    }
   ],
   "source": [
    "# Octaves\n",
    "root = 1046.50 #C6 \n",
    "\n",
    "# octaves, by multiplication of integers (powers of 2): \n",
    "octs = np.array([1,2,4,8]) # four octaves\n",
    "freqs = root*octs\n",
    "print(freqs)\n",
    "\n",
    "#same octaves, by integer exponents of base 2. \n",
    "octs_exp = np.array([0,1,2,3])\n",
    "freqs = root*2**octs_exp\n",
    "print(freqs)\n",
    "#prints frq of octaves of A\n",
    "#'C6' = 1046.50Hz ; \"C7\" = 2093.0Hz ; \"C8\" = 4186.0Hz ; \"C9\" =  8372.0Hz \n"
   ]
  },
  {
   "cell_type": "markdown",
   "metadata": {},
   "source": [
    "### Equal temperament (modern western instruments): \n",
    "\n",
    "In classical western music, the octave is divided into 12 equal-sized \"semi-tone\" intervals: <br>\n",
    "$f = f_0*2^{v+k/12}$ <br>\n",
    "$v$ is an integer that marks how many octaves you are above $f_0$ <br>\n",
    "$k$ are integers that give you the number of intervals of the 12 that make the octave. <br>\n",
    "\n",
    "\n"
   ]
  },
  {
   "cell_type": "code",
   "execution_count": 23,
   "metadata": {},
   "outputs": [
    {
     "name": "stdout",
     "output_type": "stream",
     "text": [
      "[  0.   1.   2.   3.   4.   5.   6.   7.   8.   9.  10.  11.]\n",
      "all semi-tones:\n",
      "[ 1046.5         1108.72812825  1174.65653356  1244.50524585  1318.50737871\n",
      "  1396.90990739  1479.97449302  1567.97835595  1661.21520088  1759.99619713\n",
      "  1864.65101707  1975.52893644]\n",
      "major scale:\n",
      "[ 0  2  4  5  7  9 11 12]\n",
      "[ 1046.5         1174.65653356  1318.50737871  1396.90990739  1567.97835595\n",
      "  1759.99619713  1975.52893644  2093.        ]\n"
     ]
    }
   ],
   "source": [
    "k = np.arange(0,12.) # this makes a numpy array. \n",
    "print(k)\n",
    "\n",
    "v=0\n",
    "root = 1046.50 #C6\n",
    "print('all semi-tones:')\n",
    "#12th notes (semitones are half of a whole tone)\n",
    "#larger than 12 leads to microtones\n",
    "\n",
    "f = root*(2)**(v+k/12.)\n",
    "print(f)\n",
    "\n",
    "print('major scale:')\n",
    "#8th notes \n",
    "# intervals 2,2,1,2,2,2,1 \n",
    "# 2=whole; 1=half\n",
    "major = np.array([0,2,4,5,7,9,11,12])\n",
    "print(major)\n",
    "f = root*2**(v+major/12.)\n",
    "print(f)"
   ]
  },
  {
   "cell_type": "code",
   "execution_count": 24,
   "metadata": {},
   "outputs": [
    {
     "data": {
      "image/png": "[encoded data removed]",
      "text/plain": [
       "<matplotlib.figure.Figure at 0x11027fd50>"
      ]
     },
     "metadata": {
      "needs_background": "light"
     },
     "output_type": "display_data"
    }
   ],
   "source": [
    "fig = plt.figure(figsize=(5,5))\n",
    "plt.plot(major,f, 'ro')\n",
    "plt.xlabel('scale element')\n",
    "plt.ylabel('frequency')\n",
    "plt.show()"
   ]
  },
  {
   "cell_type": "markdown",
   "metadata": {},
   "source": [
    "### Just intonation (sounds better !?!?)\n",
    "When a musical instrument is tuned using a just intonation tuning system, the size of the main intervals can be expressed by small-integer ratios, such as 1:1 (unison), 2:1 (octave), 3:2 (perfect fifth), 4:3 (perfect fourth), 5:4 (major third), 6:5 (minor third).\n",
    "then sort by increasing value! "
   ]
  },
  {
   "cell_type": "code",
   "execution_count": 25,
   "metadata": {},
   "outputs": [
    {
     "name": "stdout",
     "output_type": "stream",
     "text": [
      "the ratios of just intonation for octave, fifth, fourth, major third, minor third:\n",
      "[ 2.          1.5         1.33333333  1.25        1.2       ]\n",
      "rearranged to minor third, major third, fourth, fifth, octave:\n",
      "[ 1.2         1.25        1.33333333  1.5         2.        ]\n",
      "add the root note:\n",
      "[ 1.          1.2         1.25        1.33333333  1.5         2.        ]\n",
      "compare to the equal tempered ratios:\n",
      "[ 1.          1.18920712  1.25992105  1.33483985  1.49830708  2.        ]\n",
      "Can we hear the difference?\n"
     ]
    }
   ],
   "source": [
    "top = np.array([2.,3.,4.,5.,6.])\n",
    "bot = top-1 \n",
    "just_ratios = top/bot\n",
    "\n",
    "print('the ratios of just intonation for octave, fifth, fourth, major third, minor third:')\n",
    "print(just_ratios)\n",
    "\n",
    "print('rearranged to minor third, major third, fourth, fifth, octave:')\n",
    "scale3458_just = np.sort(just_ratios)\n",
    "print(scale3458_just)\n",
    "\n",
    "print('add the root note:')\n",
    "scale13m3M458_just = np.append(1, scale3458_just)\n",
    "print(scale13m3M458_just)\n",
    "\n",
    "print('compare to the equal tempered ratios:')\n",
    "ints13m3M458_eqt = np.array([0.,3.,4.,5.,7.,12.])\n",
    "scale13m3M458_eqt = 2**(ints13m3M458_eqt/12.)\n",
    "print(scale13m3M458_eqt)\n",
    "\n",
    "print('Can we hear the difference?')"
   ]
  },
  {
   "cell_type": "code",
   "execution_count": 26,
   "metadata": {},
   "outputs": [
    {
     "name": "stdout",
     "output_type": "stream",
     "text": [
      "<type 'numpy.ndarray'>\n",
      "1.11111111111\n",
      "[  0.           1.11111111   2.22222222   3.33333333   4.44444444\n",
      "   5.55555556   6.66666667   7.77777778   8.88888889  10.        ]\n"
     ]
    },
    {
     "name": "stderr",
     "output_type": "stream",
     "text": [
      "/Users/aribakhan/anaconda/lib/python2.7/site-packages/ipykernel_launcher.py:10: DeprecationWarning: using a non-integer array as obj in delete will result in an error in the future\n",
      "  # Remove the CWD from sys.path while we load stuff.\n",
      "/Users/aribakhan/anaconda/lib/python2.7/site-packages/ipykernel_launcher.py:11: DeprecationWarning: using a non-integer array as obj in delete will result in an error in the future\n",
      "  # This is added back by InteractiveShellApp.init_path()\n"
     ]
    },
    {
     "data": {
      "image/png": "[encoded data removed]",
      "text/plain": [
       "<matplotlib.figure.Figure at 0x11028b790>"
      ]
     },
     "metadata": {
      "needs_background": "light"
     },
     "output_type": "display_data"
    }
   ],
   "source": [
    "# CONVERT THOSE RATIOS TO FREQUENCIES !\n",
    "f0 = 1046.50\n",
    "f_133458_just = f0*scale13m3M458_just\n",
    "f_133458_eqt = f0*scale13m3M458_eqt\n",
    "print(type(f_133458_eqt))\n",
    "\n",
    "# delete the major or minor thirds\n",
    "min_ind = 1.\n",
    "maj_ind = 2.\n",
    "f_13458_eqt = np.delete(f_133458_eqt,[min_ind])  #np.delete(values,[3,4,1])\n",
    "f_13458_just = np.delete(f_133458_just,[min_ind]) \n",
    "\n",
    "freqs = np.concatenate((f_13458_just,f_13458_eqt))\n",
    "# MAKE a TIME array ! \n",
    "# use arange for integers !\n",
    "# use linspace for non-integer increments\n",
    "sound_dur = 10.0\n",
    "time = np.linspace(0,sound_dur,len(freqs)) \n",
    "dur = time[2] - time[1]\n",
    "print(dur)\n",
    "print(time)\n",
    "\n",
    "fig = plt.figure(figsize=(5,5))\n",
    "plt.plot(scale13m3M458_eqt,f_133458_eqt, 'ro')\n",
    "plt.plot(scale13m3M458_just,f_133458_just, 'bo')\n",
    "plt.xlabel('interval')\n",
    "plt.ylabel('frequency')\n",
    "plt.show()"
   ]
  },
  {
   "cell_type": "markdown",
   "metadata": {},
   "source": [
    "# ===============================================\n",
    "# (2) Visualizing tonal relationships ! "
   ]
  },
  {
   "cell_type": "code",
   "execution_count": 27,
   "metadata": {},
   "outputs": [
    {
     "name": "stdout",
     "output_type": "stream",
     "text": [
      "[  0.   1.   2.   3.   4.   5.   6.   7.   8.   9.  10.  11.  12.  13.  14.\n",
      "  15.  16.  17.  18.  19.  20.  21.  22.  23.  24.  25.  26.  27.  28.  29.\n",
      "  30.  31.  32.  33.  34.  35.  36.  37.  38.  39.  40.  41.  42.  43.  44.\n",
      "  45.  46.  47.  48.]\n"
     ]
    }
   ],
   "source": [
    "n_oct = 2.\n",
    "n_ints_scl = 24.\n",
    "pitches = np.arange(n_oct*n_ints_scl+1.)\n",
    "print(pitches)"
   ]
  },
  {
   "cell_type": "code",
   "execution_count": 28,
   "metadata": {},
   "outputs": [
    {
     "name": "stdout",
     "output_type": "stream",
     "text": [
      "[  1046.5          1108.72812825   1174.65653356   1244.50524585\n",
      "   1318.50737871   1396.90990739   1479.97449302   1567.97835595\n",
      "   1661.21520088   1759.99619713   1864.65101707   1975.52893644   2093.\n",
      "   2217.45625649   2349.31306711   2489.0104917    2637.01475743\n",
      "   2793.81981478   2959.94898605   3135.9567119    3322.43040177\n",
      "   3519.99239425   3729.30203414   3951.05787289   4186.           4434.91251299\n",
      "   4698.62613422   4978.0209834    5274.02951486   5587.63962956\n",
      "   5919.89797209   6271.91342381   6644.86080354   7039.9847885\n",
      "   7458.60406827   7902.11574577   8372.           8869.82502598\n",
      "   9397.25226845   9956.0419668   10548.05902972  11175.27925911\n",
      "  11839.79594419  12543.82684761  13289.72160708  14079.96957701\n",
      "  14917.20813654  15804.23149154  16744.        ]\n"
     ]
    }
   ],
   "source": [
    "f0 = 1046.50\n",
    "k = pitches\n",
    "freqs = f0*2**(k/12.)\n",
    "print(freqs)"
   ]
  },
  {
   "cell_type": "code",
   "execution_count": 29,
   "metadata": {
    "collapsed": true
   },
   "outputs": [],
   "source": [
    "v = -1.0 # octave shift down from root (tonic) #starting key\n",
    "freqs = f0*2**(v+k/12)"
   ]
  },
  {
   "cell_type": "code",
   "execution_count": 30,
   "metadata": {},
   "outputs": [
    {
     "data": {
      "image/png": "[encoded data removed]",
      "text/plain": [
       "<matplotlib.figure.Figure at 0x113365250>"
      ]
     },
     "metadata": {
      "needs_background": "light"
     },
     "output_type": "display_data"
    }
   ],
   "source": [
    "fig = plt.figure(figsize=(5,5))\n",
    "plt.plot(pitches,freqs, 'ro')\n",
    "plt.xlabel('pitch number')\n",
    "plt.ylabel('frequency')\n",
    "plt.show()"
   ]
  },
  {
   "cell_type": "markdown",
   "metadata": {},
   "source": [
    "# =============================================================================\n",
    "# (3) PITCH WHEELS"
   ]
  },
  {
   "cell_type": "code",
   "execution_count": 31,
   "metadata": {
    "collapsed": true
   },
   "outputs": [],
   "source": [
    "import matplotlib.patches as patches\n",
    "\n",
    "def makePitchRing(indexes):\n",
    "    circle = np.linspace(0,2*np.pi,64)\n",
    "    r = 1.0\n",
    "    x = r*np.sin(circle)\n",
    "    y = r*np.cos(circle)\n",
    "\n",
    "    # the note locations. \n",
    "    base_dots = np.linspace(0,2*np.pi,13)\n",
    "    xd = r*np.sin(base_dots)\n",
    "    yd = r*np.cos(base_dots)\n",
    "\n",
    "    # the text locations\n",
    "    r = 1.15\n",
    "    xt = r*np.sin(base_dots)\n",
    "    yt = r*np.cos(base_dots)\n",
    "\n",
    "    # ========================\n",
    "    fig1 = plt.figure()\n",
    "    ax1 = fig1.add_subplot(111, aspect='equal')\n",
    "\n",
    "    # (0) plot a filled square with a filled circle in it...\n",
    "    # patches.Rectangle((x,y,lower left corner),width,height)\n",
    "    #ax1.add_patch(patches.Rectangle((0.1, 0.1),0.5,0.5,facecolor=\"red\"))\n",
    "\n",
    "    ax1.add_patch(patches.Rectangle((-1.25, -1.25),2.5,2.5,facecolor=[0.6, 0.6, 0.6]))\n",
    "    ax1.plot(x,y,'k-')\n",
    "    ax1.plot(xd,yd,'w.')\n",
    "\n",
    "    radius_norm = 0.08  # radius normalized, scaled to size of box\n",
    "\n",
    "    for ind,interval in enumerate(indexes):\n",
    "        # print(ind,interval)\n",
    "        ax1.add_patch(patches.Circle((xd[interval], yd[interval]),radius_norm,facecolor=\"red\")) \n",
    "        ax1.text(xt[interval], yt[interval],pitch_classes[interval])\n",
    "        \n",
    "    ax1.get_xaxis().set_visible(False)\n",
    "    ax1.get_yaxis().set_visible(False)\n",
    "    plt.show()\n"
   ]
  },
  {
   "cell_type": "code",
   "execution_count": 32,
   "metadata": {},
   "outputs": [
    {
     "data": {
      "image/png": "[encoded data removed]",
      "text/plain": [
       "<matplotlib.figure.Figure at 0x11345f090>"
      ]
     },
     "metadata": {
      "needs_background": "light"
     },
     "output_type": "display_data"
    }
   ],
   "source": [
    "pitch_classes = ['c','c#','d','d#','e','f','f#','g','g#','a','a#','b']\n",
    "indexes = [0,2,4,5,7,9,11]\n",
    "makePitchRing(indexes)"
   ]
  },
  {
   "cell_type": "code",
   "execution_count": 252,
   "metadata": {},
   "outputs": [
    {
     "name": "stdout",
     "output_type": "stream",
     "text": [
      "1046.5022612\n",
      "[ 0  1  2  3  4  5  6  7  8  9 10 11]\n",
      "[ 1046.5022612   1108.73052391  1174.65907167  1244.50793489  1318.51022765\n",
      "  1396.91292573  1479.97769085  1567.98174393  1661.21879032  1760.\n",
      "  1864.65504607  1975.53320502]\n"
     ]
    }
   ],
   "source": [
    "# Now lets make a sort of data base for pitches... \n",
    "# to connect names to pitches, \n",
    "# and \n",
    "\n",
    "C6 = 440.0 * 2**(27./12.-1.)\n",
    "print(C6)\n",
    "\n",
    "def notenum2freq(k,v,f0):\n",
    "    freqs = f0*2**(v+k/12.)\n",
    "    return freqs\n",
    "\n",
    "ints = np.arange(12)\n",
    "print(ints)\n",
    "ref_scale_freqs = notenum2freq(ints,0,C6)\n",
    "print(ref_scale_freqs)"
   ]
  },
  {
   "cell_type": "code",
   "execution_count": 225,
   "metadata": {
    "collapsed": true
   },
   "outputs": [],
   "source": [
    "# using dictionaries: \n",
    "# https://learnpythonthehardway.org/book/ex39.html\n",
    "# https://jeffknupp.com/blog/2015/08/30/python-dictionaries/\n",
    "\n",
    "# a list of dictionaries: \n",
    "# http://stackoverflow.com/questions/19577258/python-analog-to-matlab-data-structure\n",
    "# database.append({'E': 17e4, 'var2': 'C:\\\\data file path', 'var3': [1, 2, 3, 4]})\n",
    "pitch_classes = ['c','c#','d','d#','e','f','f#','g','g#','a','a#','b']\n",
    "\n",
    "# does it make any sense to make a dictionary here?\n",
    "#pitches_midC_ref = {'pitches':pitch_classes, 'freqs':ref_scale_freqs }\n",
    "#pitch_names = pitches_midC_ref['pitches']\n",
    "#freqs = pitches_midC_ref['freqs']\n"
   ]
  },
  {
   "cell_type": "code",
   "execution_count": 226,
   "metadata": {},
   "outputs": [
    {
     "name": "stdout",
     "output_type": "stream",
     "text": [
      "('c', 1046.5022612023945)\n",
      "('c#', 1108.7305239074883)\n",
      "('d', 1174.6590716696303)\n",
      "('d#', 1244.5079348883235)\n",
      "('e', 1318.5102276514797)\n",
      "('f', 1396.9129257320155)\n",
      "('f#', 1479.9776908465376)\n",
      "('g', 1567.9817439269971)\n",
      "('g#', 1661.2187903197803)\n",
      "('a', 1759.9999999999998)\n",
      "('a#', 1864.6550460723595)\n",
      "('b', 1975.5332050244963)\n",
      "c : 1046.5022612Hz\n",
      "c# : 1108.73052391Hz\n",
      "d : 1174.65907167Hz\n",
      "d# : 1244.50793489Hz\n",
      "e : 1318.51022765Hz\n",
      "f : 1396.91292573Hz\n",
      "f# : 1479.97769085Hz\n",
      "g : 1567.98174393Hz\n",
      "g# : 1661.21879032Hz\n",
      "a : 1760.0Hz\n",
      "a# : 1864.65504607Hz\n",
      "b : 1975.53320502Hz\n"
     ]
    }
   ],
   "source": [
    "for pair in zip(pitch_classes,ref_scale_freqs):\n",
    "    print(pair)\n",
    "\n",
    "for ind,pitchname in enumerate(pitch_classes):\n",
    "    print(pitchname + ' : ' + str(ref_scale_freqs[ind]) + 'Hz')\n",
    "    "
   ]
  },
  {
   "cell_type": "code",
   "execution_count": 227,
   "metadata": {},
   "outputs": [
    {
     "name": "stdout",
     "output_type": "stream",
     "text": [
      "{'a': 1759.9999999999998, 'c': 1046.5022612023945, 'b': 1975.5332050244963, 'e': 1318.5102276514797, 'd': 1174.6590716696303, 'g': 1567.9817439269971, 'f': 1396.9129257320155, 'c#': 1108.7305239074883, 'd#': 1244.5079348883235, 'f#': 1479.9776908465376, 'g#': 1661.2187903197803, 'a#': 1864.6550460723595}\n"
     ]
    }
   ],
   "source": [
    "# or make a dictionary ! \n",
    "pitch_freq_ref = dict(zip(pitch_classes,ref_scale_freqs))\n",
    "\n",
    "pitch_freq_ref\n",
    "print(pitch_freq_ref)\n"
   ]
  },
  {
   "cell_type": "code",
   "execution_count": 228,
   "metadata": {},
   "outputs": [
    {
     "name": "stdout",
     "output_type": "stream",
     "text": [
      "============== CALL ONE PITCH NAME ============\n",
      "C6 = 1046.5022612\n"
     ]
    }
   ],
   "source": [
    "# is this actually C4 ? \n",
    "print('============== CALL ONE PITCH NAME ============')\n",
    "C6 = pitch_freq_ref['c']\n",
    "print('C6 = '+ str(C6))"
   ]
  },
  {
   "cell_type": "markdown",
   "metadata": {},
   "source": [
    "# =============================================\n",
    "# (4) Modes -- Dictionaries and lists"
   ]
  },
  {
   "cell_type": "code",
   "execution_count": 229,
   "metadata": {},
   "outputs": [
    {
     "name": "stdout",
     "output_type": "stream",
     "text": [
      "7\n"
     ]
    }
   ],
   "source": [
    "# NOW LETS MAKE DICTIONARIES FOR THE MODES !! \n",
    "\n",
    "modes = {\n",
    "    'ionian':[2,2,1,2,2,2,1], #major scale\n",
    "    'dorian':[2,1,2,2,2,1,2], #minor scale\n",
    "    'phrygian':[1,2,2,2,1,2,2],\n",
    "    'lydian':[2,2,2,1,2,2,1],\n",
    "    'mixolydian':[2,2,1,2,2,1,2],\n",
    "    'aeolian':[2,1,2,2,1,2,2],\n",
    "    'lochrian':[1,2,2,1,2,2,2]\n",
    "}\n",
    "\n",
    "print(len(modes))"
   ]
  },
  {
   "cell_type": "code",
   "execution_count": 272,
   "metadata": {},
   "outputs": [
    {
     "name": "stdout",
     "output_type": "stream",
     "text": [
      "[2, 2, 1, 2, 2, 2, 1]\n",
      "[2, 2, 1, 2, 2, 1, 2]\n",
      "[ 2  4  5  7  9 11 12]\n",
      "[ 2  4  5  7  9 10 12]\n",
      "[ 2  4  5  7  9 11 12  2  4  5  7  9 10 12]\n"
     ]
    }
   ],
   "source": [
    "# calculate the elements of the scale from the intervals (a sort of integral): \n",
    "\n",
    "intervals = modes['ionian']\n",
    "intervals1 = modes['mixolydian']\n",
    "print(intervals)\n",
    "print(intervals1)\n",
    "x = np.cumsum(intervals)\n",
    "y = np.cumsum(intervals1)\n",
    "print(x)\n",
    "print(y)\n",
    "indexes2 = []\n",
    "indexes3 = []\n",
    "for val in x[:-1]:\n",
    "    indexes2.append(val)\n",
    "for val1 in y[:-1]:\n",
    "    indexes3.append(val1)\n",
    "final_indexes = indexes2 + [12] + indexes3 + [12]\n",
    "final_indexes = np.array(final_indexes)\n",
    "print(final_indexes)"
   ]
  },
  {
   "cell_type": "code",
   "execution_count": 231,
   "metadata": {},
   "outputs": [
    {
     "name": "stdout",
     "output_type": "stream",
     "text": [
      "[2, 2, 4, 4, 5, 5, 7, 7, 9, 9, 11, 10]\n"
     ]
    }
   ],
   "source": [
    "final_index = [None]*(len(indexes2)+len(indexes3))\n",
    "final_index[::2] = indexes2\n",
    "final_index[1::2] = indexes3\n",
    "print(final_index)\n",
    "final_index = np.array(final_index)"
   ]
  },
  {
   "cell_type": "code",
   "execution_count": 232,
   "metadata": {},
   "outputs": [
    {
     "data": {
      "image/png": "[encoded data removed]",
      "text/plain": [
       "<matplotlib.figure.Figure at 0x113b90050>"
      ]
     },
     "metadata": {
      "needs_background": "light"
     },
     "output_type": "display_data"
    }
   ],
   "source": [
    "makePitchRing(final_index)\n"
   ]
  },
  {
   "cell_type": "markdown",
   "metadata": {},
   "source": [
    "# =======================================================================\n",
    "# (5) Generating Beeps ! "
   ]
  },
  {
   "cell_type": "code",
   "execution_count": 233,
   "metadata": {},
   "outputs": [],
   "source": [
    "# define the function for making the ENVELOPE\n",
    "#  peak position [0,1] \n",
    "def make_envelope_3pt(y,peak_posn):\n",
    "    N = len(y)\n",
    "    envelope = np.zeros(N)\n",
    "    print(envelope.shape)\n",
    "    peak = int(N*peak_posn)\n",
    "    print(peak)\n",
    "\n",
    "    # from 0 to the peak index (peak):\n",
    "    up = np.linspace(0,1,peak)\n",
    "    print(up.shape)\n",
    "    envelope[:peak] = up\n",
    "\n",
    "    # and fill in the rest: \n",
    "    down = np.linspace(1,0,(N-peak))\n",
    "    print(down.shape)\n",
    "    envelope[peak:] = down\n",
    "    \n",
    "    return envelope\n",
    "\n",
    "# there is a much shorter and more elegant way to do this, actually many ! \n",
    "# make one using np.interp with the time vector of the signal to modulate! "
   ]
  },
  {
   "cell_type": "code",
   "execution_count": 234,
   "metadata": {},
   "outputs": [],
   "source": [
    "# define the function for MAKING THE BEEP, then taking in the envelope\n",
    "# inputs f, dur\n",
    "\n",
    "def make_oscillator(f,dur):\n",
    "    n_cycles = f*dur # [cycles/sec]*[sec]\n",
    "    fs = 55200 # just make it at 44100.. why not?! \n",
    "    npts = int(fs*dur)\n",
    "    \n",
    "    time = np.linspace(0,dur,npts)\n",
    "    env = np.interp(time, [0,0.05*dur,0.95*dur,dur], [0,1,1,0])\n",
    "    x = np.linspace(0,2*np.pi*n_cycles,npts)\n",
    "    y = np.sin(x)\n",
    "    y = env*y\n",
    "    return time,y\n"
   ]
  },
  {
   "cell_type": "code",
   "execution_count": 235,
   "metadata": {},
   "outputs": [
    {
     "data": {
      "text/plain": [
       "[<matplotlib.lines.Line2D at 0x1045e1550>]"
      ]
     },
     "execution_count": 235,
     "metadata": {},
     "output_type": "execute_result"
    },
    {
     "data": {
      "image/png": "[encoded data removed]",
      "text/plain": [
       "<matplotlib.figure.Figure at 0x104567c90>"
      ]
     },
     "metadata": {
      "needs_background": "light"
     },
     "output_type": "display_data"
    }
   ],
   "source": [
    "f = 140.0\n",
    "dur = 1.4\n",
    "time,y = make_oscillator(f,dur)\n",
    "plt.plot(time,y)"
   ]
  },
  {
   "cell_type": "code",
   "execution_count": 236,
   "metadata": {},
   "outputs": [
    {
     "name": "stdout",
     "output_type": "stream",
     "text": [
      "C6 = 1046.5022612\n",
      "<type 'numpy.ndarray'>\n",
      "[ 1046.5022612   1308.1278265   1395.33634827  1569.7533918   2093.0045224 ]\n",
      "[ 1046.5022612   1318.51022765  1396.91292573  1567.98174393  2093.0045224 ]\n"
     ]
    }
   ],
   "source": [
    "# loop over the scale to generate the beep sequence\n",
    "# CONVERT THOSE RATIOS TO FREQUENCIES !\n",
    "C6 = pitch_freq_ref['c']\n",
    "print('C6 = '+ str(C6))\n",
    "\n",
    "f0 = C6\n",
    "f_133458_just = f0*scale13m3M458_just\n",
    "f_133458_eqt = f0*scale13m3M458_eqt\n",
    "print(type(f_133458_eqt))\n",
    "\n",
    "# delete the major or minor thirds\n",
    "min_ind = 1\n",
    "maj_ind = 2\n",
    "f_13458_eqt = np.delete(f_133458_eqt,[min_ind]) \n",
    "f_13458_just = np.delete(f_133458_just,[min_ind]) \n",
    "\n",
    "freqs = np.concatenate((f_13458_just,f_13458_eqt))\n",
    "print(f_13458_just)\n",
    "print(f_13458_eqt)"
   ]
  },
  {
   "cell_type": "code",
   "execution_count": null,
   "metadata": {},
   "outputs": [],
   "source": []
  },
  {
   "cell_type": "code",
   "execution_count": 237,
   "metadata": {},
   "outputs": [],
   "source": [
    "dur = 2.2\n",
    "\n",
    "waveform = np.zeros(1)\n",
    "for ff in freqs:\n",
    "    time,y = make_oscillator(ff,dur)\n",
    "    beep = y\n",
    "    waveform = np.hstack((waveform,beep))"
   ]
  },
  {
   "cell_type": "code",
   "execution_count": 238,
   "metadata": {},
   "outputs": [
    {
     "data": {
      "text/plain": [
       "[<matplotlib.lines.Line2D at 0x10458a250>]"
      ]
     },
     "execution_count": 238,
     "metadata": {},
     "output_type": "execute_result"
    },
    {
     "data": {
      "image/png": "[encoded data removed]",
      "text/plain": [
       "<matplotlib.figure.Figure at 0x115fce750>"
      ]
     },
     "metadata": {
      "needs_background": "light"
     },
     "output_type": "display_data"
    }
   ],
   "source": [
    "plt.plot(waveform)"
   ]
  },
  {
   "cell_type": "code",
   "execution_count": 239,
   "metadata": {},
   "outputs": [],
   "source": [
    "DirOut = '../3_output_nogit/'\n",
    "OutFileName = 'PRAC_scales1_noRT.wav'\n",
    "fs_sound = 44100\n",
    "librosa.output.write_wav(DirOut + OutFileName, waveform, fs_sound, norm=False)"
   ]
  },
  {
   "cell_type": "code",
   "execution_count": null,
   "metadata": {},
   "outputs": [],
   "source": []
  },
  {
   "cell_type": "markdown",
   "metadata": {},
   "source": [
    "# ==========================================================\n",
    "# (6) generating RTcmix scores from simple lists of pitches\n",
    "### same as above but with RTcmix"
   ]
  },
  {
   "cell_type": "code",
   "execution_count": 240,
   "metadata": {
    "collapsed": true
   },
   "outputs": [],
   "source": [
    "# FUNCTION FOR GENERATING THE RTcmix score ! \n",
    "\n",
    "def makeSimpleScore(base_name,time,freqs):\n",
    "    # ====================\n",
    "    score_name = base_name + '.sco'\n",
    "    print(score_name)\n",
    "    f_out = open(\"./\" + score_name , 'w')\n",
    "    # YOU MUST DELETE THE SOUND FILE BEFORE RUNNING (either with python or with -clobber )\n",
    "    f_out.write(\"set_option(\\\"clobber = on\\\")\")\n",
    "\n",
    "    f_out.write(\"rtsetparams(44100, 1)\\n\") #sample rate, channels (1= monosound, 2 = stereo)\n",
    "    f_out.write(\"load(\\\"WAVETABLE\\\")\\n\")\n",
    "\n",
    "    # output_string = 'rtoutput(\\\"' + base_name + '.wav\\\")\\n'  \n",
    "    # don't need the brackets to make it an array ! \n",
    "    # f_out.write(output_string)\n",
    "\n",
    "    #----------------------CHECK IF CMIX COMMAND IS INSTALLED-----------------------\n",
    "    #only use rtoutput if CMIX command is found.\n",
    "    cmixStatus, cmixResult = commands.getstatusoutput(\"CMIX\")\n",
    "    #the cmixInstalled variable can also be passed from the notebook\n",
    "    #in that is case, the output of sp.getstatusoutput(\"CMIX\") is overridden\n",
    "\n",
    "    if cmixInstalled:\n",
    "        cmixStatus = 0\n",
    "    else:\n",
    "        cmixStatus = 127\n",
    "\n",
    "    if cmixStatus == 0:\n",
    "        output_string = 'rtoutput(\\\"' + base_name + '.wav\\\")\\n'\n",
    "        # don't need the brackets to make it an array !\n",
    "        print(\"CMIX found.\")\n",
    "        print(output_string)\n",
    "        f_out.write(output_string)\n",
    "    else:\n",
    "        print(\"CMIX not found; rtoutput() will not be used in score.\")\n",
    "    #-------------------------------------------------------------------------------\n",
    "    \n",
    "    f_out.write(\"waveform = maketable(\\\"wave\\\", 1000, 1.0, 0.6, 0.3)\\n\") #sinewave,length (points),overtones\n",
    "    # to add overtones, just add amplitude weights\n",
    "    #f_out.write(\"waveform = maketable(\\\"wave\\\", 1000, 1.0, 0.4, 0.2)\\n\")\n",
    "\n",
    "    f_out.write(\"ampenv = maketable(\\\"window\\\", 1000, \\\"hamming\\\")\\n\")  #envelope (wherever you have an amplitude it will multiply by envelope)\n",
    "\n",
    "    # write out the score ! \n",
    "    # (start time, duration, amplitude, frequency, channel mix [0 left, 1.0 right],\n",
    "    # table_handle (which waveform to use)\n",
    "\n",
    "    # for now, constants: \n",
    "            \n",
    "    # reset(44100) makes it very very smooth... \n",
    "            \n",
    "    amp = 10000 \n",
    "    mix = 1.0 # 0 = left, 1 = right, but here just 1 channel\n",
    "    tab_han = 'waveform'\n",
    "\n",
    "    for i,freq_val in enumerate(freqs): #enumerate gives you value and index\n",
    "        t_start = time[i]\n",
    "        # dur = durations[i]-- here, constant, defined above\n",
    "        dur = 1.4\n",
    "        freq = freq_val\n",
    "        note_string = 'WAVETABLE(' + str(t_start) + ', ' \\\n",
    "                  + str(dur)  + ', ' + str(amp)+ '*ampenv' + ', ' \\\n",
    "                  + str(freq)  + ', ' + str(mix)  + ', ' \\\n",
    "                  +  tab_han + ')\\n' \n",
    "        f_out.write(note_string)\n",
    "        \n",
    "    f_out.close()\n",
    "    return score_name\n",
    "\n"
   ]
  },
  {
   "cell_type": "code",
   "execution_count": 305,
   "metadata": {},
   "outputs": [
    {
     "name": "stdout",
     "output_type": "stream",
     "text": [
      "[523.25113060119725, 523.25113060119725, 654.06391325149661, 654.06391325149661, 697.66817413492959, 697.66817413492959, 784.87669590179587, 784.87669590179587, 1046.5022612023945, 1046.5022612023945, 523.25113060119725, 523.25113060119725, 659.25511382573984, 659.25511382573984, 698.45646286600777, 698.45646286600777, 783.99087196349853, 783.99087196349853, 1046.5022612023945, 1046.5022612023945, 1046.5022612023945, 1046.5022612023945, 783.99087196349853, 783.99087196349853, 698.45646286600777, 698.45646286600777, 659.25511382573984, 659.25511382573984, 523.25113060119725, 523.25113060119725, 1046.5022612023945, 1046.5022612023945, 784.87669590179587, 784.87669590179587, 697.66817413492959, 697.66817413492959, 654.06391325149661, 654.06391325149661, 523.25113060119725, 523.25113060119725]\n",
      "(40, 40)\n",
      "[  0.           0.55384615   1.10769231   1.66153846   2.21538462\n",
      "   2.76923077   3.32307692   3.87692308   4.43076923   4.98461538\n",
      "   5.53846154   6.09230769   6.64615385   7.2          7.75384615\n",
      "   8.30769231   8.86153846   9.41538462   9.96923077  10.52307692\n",
      "  11.07692308  11.63076923  12.18461538  12.73846154  13.29230769\n",
      "  13.84615385  14.4         14.95384615  15.50769231  16.06153846\n",
      "  16.61538462  17.16923077  17.72307692  18.27692308  18.83076923\n",
      "  19.38461538  19.93846154  20.49230769  21.04615385  21.6       ]\n"
     ]
    }
   ],
   "source": [
    "# Make freqs and time arrays (same length!)\n",
    "freqs = np.concatenate((f_13458_just*0.5,f_13458_eqt*0.5))\n",
    "freqs1 = np.concatenate((f_13458_just*0.5,f_13458_eqt*0.5))\n",
    "\n",
    "freqs_alternate = [None]*(len(freqs)+len(freqs1))\n",
    "freqs_alternate[::2] = freqs\n",
    "freqs_alternate[1::2] = freqs1\n",
    "\n",
    "freqs_reverse = freqs_alternate[::-1]\n",
    "freqs_final = freqs_alternate + freqs_reverse\n",
    "print(freqs_final)\n",
    "\n",
    "beepdur = 0.9\n",
    "sound_dur = len(freqs_final)*beepdur*.6\n",
    "time_sco = np.linspace(0,sound_dur,len(freqs_final))\n",
    "print(len(freqs_final),len(time_sco))\n",
    "print(time_sco)"
   ]
  },
  {
   "cell_type": "code",
   "execution_count": 306,
   "metadata": {},
   "outputs": [
    {
     "name": "stdout",
     "output_type": "stream",
     "text": [
      "PRAC_scale1_RT.sco\n",
      "CMIX not found; rtoutput() will not be used in score.\n"
     ]
    }
   ],
   "source": [
    "# GENERATE THE RTcmix score ! \n",
    "base_name = 'PRAC_scale1_RT'\n",
    "score_name = makeSimpleScore(base_name,time_sco,freqs_final)\n",
    "\n"
   ]
  },
  {
   "cell_type": "code",
   "execution_count": 1,
   "metadata": {},
   "outputs": [
    {
     "ename": "NameError",
     "evalue": "name 'time_sco' is not defined",
     "output_type": "error",
     "traceback": [
      "\u001b[0;31m---------------------------------------------------------------------------\u001b[0m",
      "\u001b[0;31mNameError\u001b[0m                                 Traceback (most recent call last)",
      "\u001b[0;32m<ipython-input-1-27759fca7e3f>\u001b[0m in \u001b[0;36m<module>\u001b[0;34m()\u001b[0m\n\u001b[1;32m      2\u001b[0m \u001b[0;31m# use CMIX if installed; if not, use pyGoRTcmix\u001b[0m\u001b[0;34m\u001b[0m\u001b[0;34m\u001b[0m\u001b[0m\n\u001b[1;32m      3\u001b[0m \u001b[0mabitextra\u001b[0m \u001b[0;34m=\u001b[0m \u001b[0;36m0.5\u001b[0m\u001b[0;34m\u001b[0m\u001b[0m\n\u001b[0;32m----> 4\u001b[0;31m \u001b[0mdur_sound\u001b[0m \u001b[0;34m=\u001b[0m \u001b[0mtime_sco\u001b[0m\u001b[0;34m[\u001b[0m\u001b[0;34m-\u001b[0m\u001b[0;36m1\u001b[0m\u001b[0;34m]\u001b[0m \u001b[0;34m+\u001b[0m \u001b[0mabitextra\u001b[0m\u001b[0;34m\u001b[0m\u001b[0m\n\u001b[0m\u001b[1;32m      5\u001b[0m \u001b[0;34m\u001b[0m\u001b[0m\n\u001b[1;32m      6\u001b[0m \u001b[0;32mif\u001b[0m \u001b[0mcmixInstalled\u001b[0m\u001b[0;34m:\u001b[0m\u001b[0;34m\u001b[0m\u001b[0m\n",
      "\u001b[0;31mNameError\u001b[0m: name 'time_sco' is not defined"
     ]
    }
   ],
   "source": [
    "# play RTcmix score and create a wave file\n",
    "# use CMIX if installed; if not, use pyGoRTcmix\n",
    "abitextra = 0.5\n",
    "dur_sound = time_sco[-1] + abitextra \n",
    "\n",
    "if cmixInstalled:\n",
    "    cmix_cmd = 'CMIX < ' + base_name + '.sco'\n",
    "else:\n",
    "    dur = str(dur_sound)\n",
    "    cmix_cmd = '/Users/aribakhan/Desktop/Sonification_Data/datamovies-master/pyGoRTcmix/pyGoRTcmix -inputscore ' + os.path.abspath(base_name + '.sco ') + '-output ' + os.path.abspath(base_name + '.wav ') +'-dur ' + dur\n",
    "print(cmix_cmd)\n",
    "\n",
    "runCMIX = sp.Popen(cmix_cmd, shell=True) # if can only be called from a shell, use shell=True\n",
    "\n",
    "runCMIX.wait()\n",
    "print('\\nhopefully i just wrote your sound file (' + base_name + '.wav); is it here?')\n",
    "! ls *.wav"
   ]
  },
  {
   "cell_type": "code",
   "execution_count": 244,
   "metadata": {},
   "outputs": [
    {
     "data": {
      "text/plain": [
       "<subprocess.Popen at 0x1045e6090>"
      ]
     },
     "execution_count": 244,
     "metadata": {},
     "output_type": "execute_result"
    }
   ],
   "source": [
    "move_cmd = 'mv ' + base_name + '.* ../3_output_nogit/'\n",
    "sp.Popen(move_cmd, shell=True)"
   ]
  },
  {
   "cell_type": "code",
   "execution_count": 274,
   "metadata": {},
   "outputs": [
    {
     "name": "stdout",
     "output_type": "stream",
     "text": [
      "[ 1174.65907167  1174.65907167  1318.51022765  1318.51022765  1396.91292573\n",
      "  1396.91292573  1567.98174393  1567.98174393  1760.          1760.\n",
      "  1975.53320502  1864.65504607]\n"
     ]
    },
    {
     "ename": "TypeError",
     "evalue": "unsupported operand type(s) for /: 'list' and 'float'",
     "output_type": "error",
     "traceback": [
      "\u001b[0;31m---------------------------------------------------------------------------\u001b[0m",
      "\u001b[0;31mTypeError\u001b[0m                                 Traceback (most recent call last)",
      "\u001b[0;32m<ipython-input-274-5b661912ef44>\u001b[0m in \u001b[0;36m<module>\u001b[0;34m()\u001b[0m\n\u001b[1;32m      4\u001b[0m \u001b[0mfreqs\u001b[0m \u001b[0;34m=\u001b[0m \u001b[0mnotenum2freq\u001b[0m\u001b[0;34m(\u001b[0m\u001b[0mfinal_index\u001b[0m\u001b[0;34m,\u001b[0m\u001b[0;36m0\u001b[0m\u001b[0;34m,\u001b[0m\u001b[0mC6\u001b[0m\u001b[0;34m)\u001b[0m\u001b[0;34m\u001b[0m\u001b[0m\n\u001b[1;32m      5\u001b[0m \u001b[0;32mprint\u001b[0m\u001b[0;34m(\u001b[0m\u001b[0mfreqs\u001b[0m\u001b[0;34m)\u001b[0m\u001b[0;34m\u001b[0m\u001b[0m\n\u001b[0;32m----> 6\u001b[0;31m \u001b[0mfreqs1\u001b[0m \u001b[0;34m=\u001b[0m \u001b[0mnotenum2freq\u001b[0m\u001b[0;34m(\u001b[0m\u001b[0mindexes3\u001b[0m\u001b[0;34m,\u001b[0m\u001b[0;36m0\u001b[0m\u001b[0;34m,\u001b[0m\u001b[0mC6\u001b[0m\u001b[0;34m)\u001b[0m\u001b[0;34m\u001b[0m\u001b[0m\n\u001b[0m\u001b[1;32m      7\u001b[0m \u001b[0;31m#print(freqs1)\u001b[0m\u001b[0;34m\u001b[0m\u001b[0;34m\u001b[0m\u001b[0m\n\u001b[1;32m      8\u001b[0m \u001b[0;31m#final_freqs = [None]*(len(freqs)+len(freqs1))\u001b[0m\u001b[0;34m\u001b[0m\u001b[0;34m\u001b[0m\u001b[0m\n",
      "\u001b[0;32m<ipython-input-259-804668be2038>\u001b[0m in \u001b[0;36mnotenum2freq\u001b[0;34m(k, v, f0)\u001b[0m\n\u001b[1;32m      4\u001b[0m \u001b[0;34m\u001b[0m\u001b[0m\n\u001b[1;32m      5\u001b[0m \u001b[0;32mdef\u001b[0m \u001b[0mnotenum2freq\u001b[0m\u001b[0;34m(\u001b[0m\u001b[0mk\u001b[0m\u001b[0;34m,\u001b[0m\u001b[0mv\u001b[0m\u001b[0;34m,\u001b[0m\u001b[0mf0\u001b[0m\u001b[0;34m)\u001b[0m\u001b[0;34m:\u001b[0m\u001b[0;34m\u001b[0m\u001b[0m\n\u001b[0;32m----> 6\u001b[0;31m     \u001b[0mfreqs\u001b[0m \u001b[0;34m=\u001b[0m \u001b[0mf0\u001b[0m\u001b[0;34m*\u001b[0m\u001b[0;36m2\u001b[0m\u001b[0;34m**\u001b[0m\u001b[0;34m(\u001b[0m\u001b[0mv\u001b[0m\u001b[0;34m+\u001b[0m\u001b[0mk\u001b[0m\u001b[0;34m/\u001b[0m\u001b[0;36m12.\u001b[0m\u001b[0;34m)\u001b[0m\u001b[0;34m\u001b[0m\u001b[0m\n\u001b[0m\u001b[1;32m      7\u001b[0m     \u001b[0;32mreturn\u001b[0m \u001b[0mfreqs\u001b[0m\u001b[0;34m\u001b[0m\u001b[0m\n\u001b[1;32m      8\u001b[0m \u001b[0;34m\u001b[0m\u001b[0m\n",
      "\u001b[0;31mTypeError\u001b[0m: unsupported operand type(s) for /: 'list' and 'float'"
     ]
    }
   ],
   "source": [
    "# EXERCISE:  MAKE AN RTCMIX SCORE FROM THIS... \n",
    "base_name = 'PRAC_ionian+mixolydian'\n",
    "# pluck freqs out of the scale... or calculate freqs with k ? \n",
    "freqs = notenum2freq(final_index,0,C6)\n",
    "print(freqs)\n",
    "freqs1 = notenum2freq(indexes3,0,C6)\n",
    "#print(freqs1)\n",
    "#final_freqs = [None]*(len(freqs)+len(freqs1))\n",
    "#final_freqs[::2] = freqs\n",
    "#final_freqs[1::2] = freqs1\n",
    "#print(final_freqs)\n",
    "\n",
    "#time2 = np.linspace(0,10,len(indexes2))\n",
    "#time3 = np.linspace(0,10,len(indexes3))\n",
    "#makeSimpleScore(base_name,time2,freqs)\n",
    "#makeSimpleScore(base_name1,time3,freqs1)"
   ]
  },
  {
   "cell_type": "code",
   "execution_count": 89,
   "metadata": {},
   "outputs": [
    {
     "name": "stdout",
     "output_type": "stream",
     "text": [
      "/Users/aribakhan/Desktop/Sonification_Data/datamovies-master/pyGoRTcmix/pyGoRTcmix -inputscore /Users/aribakhan/Desktop/Sonification_Data/datamovies-master/1_codes/PRAC_ionian.sco -output /Users/aribakhan/Desktop/Sonification_Data/datamovies-master/1_codes/PRAC_ionian.wav -dur 22.5\n",
      "\n",
      "hopefully i just wrote your sound file (PRAC_ionian.wav); is it here?\n",
      "PRAC_ionian.wav scale1_RT 2.wav scale1_RT 4.wav sound_env1.wav\n",
      "ionian.wav      scale1_RT 3.wav sound_env.wav\n"
     ]
    }
   ],
   "source": [
    "abitextra = 0.5\n",
    "dur_sound = time_sco[-1] + abitextra \n",
    "\n",
    "if cmixInstalled:\n",
    "    cmix_cmd = 'CMIX < ' + base_name + '.sco'\n",
    "else:\n",
    "    dur = str(dur_sound)\n",
    "    cmix_cmd = '/Users/aribakhan/Desktop/Sonification_Data/datamovies-master/pyGoRTcmix/pyGoRTcmix -inputscore ' + os.path.abspath(base_name + '.sco ') + '-output ' + os.path.abspath(base_name + '.wav ') +'-dur ' + dur\n",
    "print(cmix_cmd)\n",
    "\n",
    "runCMIX = sp.Popen(cmix_cmd, shell=True) # if can only be called from a shell, use shell=True\n",
    "\n",
    "runCMIX.wait()\n",
    "print('\\nhopefully i just wrote your sound file (' + base_name + '.wav); is it here?')\n",
    "! ls *.wav"
   ]
  },
  {
   "cell_type": "code",
   "execution_count": null,
   "metadata": {},
   "outputs": [],
   "source": [
    "move_cmd = 'mv ' + base_name + '.* ../3_output_nogit/'\n",
    "sp.Popen(move_cmd, shell=True)"
   ]
  },
  {
   "cell_type": "code",
   "execution_count": 58,
   "metadata": {
    "collapsed": true
   },
   "outputs": [],
   "source": [
    "# EXERCISE:  CHANGE THE NOTE OF THE SCALE ! \n"
   ]
  },
  {
   "cell_type": "code",
   "execution_count": null,
   "metadata": {
    "collapsed": true
   },
   "outputs": [],
   "source": [
    "# EXERCISE: STRING TOGETHER A SERIES OF SCALES, LOOPING OVER ONE THING TO CHANGE, \n",
    "# such as root note or mode... and make a longer RTcmix score... "
   ]
  },
  {
   "cell_type": "markdown",
   "metadata": {},
   "source": [
    "### (7) Circles of 5ths and 4ths... \n",
    "### (8) More considerations for composing from data.. chords... key changes, microtonal scales... "
   ]
  }
 ],
 "metadata": {
  "anaconda-cloud": {},
  "kernelspec": {
   "display_name": "Python 2",
   "language": "python",
   "name": "python2"
  },
  "language_info": {
   "codemirror_mode": {
    "name": "ipython",
    "version": 2
   },
   "file_extension": ".py",
   "mimetype": "text/x-python",
   "name": "python",
   "nbconvert_exporter": "python",
   "pygments_lexer": "ipython2",
   "version": "2.7.6"
  }
 },
 "nbformat": 4,
 "nbformat_minor": 2
}
