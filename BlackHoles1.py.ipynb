{
 "cells": [
  {
   "cell_type": "code",
   "execution_count": 7,
   "metadata": {},
   "outputs": [],
   "source": [
    "import numpy as np\n",
    "import matplotlib.pyplot as plt\n",
    "import pandas as pd\n",
    "from pylab import *\n",
    "from struct import unpack\n",
    "%matplotlib inline"
   ]
  },
  {
   "cell_type": "code",
   "execution_count": 22,
   "metadata": {},
   "outputs": [],
   "source": [
    "bod_num=[]\n",
    "mass=[]\n",
    "time=[]\n",
    "ax=[]\n",
    "ex=[]\n",
    "inc=[]\n",
    "x=[]\n",
    "y=[]\n",
    "z=[]\n",
    "\n",
    "\n",
    "\n",
    "with open(\"/Users/aribakhan/Documents/BH_nbody/OutputData/May22/bout.bin\", \"rb\") as f:\n",
    "    num=17 #number of columns\n",
    "    vals=[1,2,3,4,5]\n",
    "    while len(vals)>0:\n",
    "        vals = f.read(4*num)\n",
    "        if len(vals)>0:\n",
    "            bod_num.append(unpack('f'*num,vals)[1])\n",
    "            mass.append(unpack('f'*num,vals)[2])\n",
    "            time.append(unpack('f'*num,vals)[3])\n",
    "            ax.append(unpack('f'*num,vals)[4])\n",
    "            ex.append(unpack('f'*num,vals)[5])\n",
    "            inc.append(unpack('f'*num,vals)[6])\n",
    "            x.append(unpack('f'*num,vals)[10])\n",
    "            y.append(unpack('f'*num,vals)[11])\n",
    "            z.append(unpack('f'*num,vals)[12])\n",
    "        if unpack('f'*num,vals)[3]>1e7:\n",
    "            break\n",
    "            \n",
    "r = [np.sqrt(x**2+y**2+z**2) for x,y,z in zip(x,y,z)]\n",
    "\n",
    "blackhole_data = pd.DataFrame(\n",
    "    {'Body Number': bod_num,\n",
    "     'Mass': mass,\n",
    "     'Time': time,\n",
    "     'Major Axis': ax,\n",
    "     'Eccentricity': ex,\n",
    "     'Inclination': inc,\n",
    "     'X Position': x,\n",
    "     'Y Position': y,\n",
    "     'Z Position': z,\n",
    "     'Radius': r\n",
    "    })"
   ]
  },
  {
   "cell_type": "code",
   "execution_count": 23,
   "metadata": {},
   "outputs": [],
   "source": [
    "import pickle\n",
    "base_dir = '/Users/aribakhan/Desktop/Sonification_Data/datamovies-master/'\n",
    "with open(base_dir + 'blackholeData.pickle', 'wb') as f:\n",
    "            pickle.dump(blackhole_data, f)"
   ]
  },
  {
   "cell_type": "code",
   "execution_count": 25,
   "metadata": {},
   "outputs": [
    {
     "name": "stdout",
     "output_type": "stream",
     "text": [
      "   Body Number  Mass      Time  Major Axis  Eccentricity  Inclination  \\\n",
      "0          0.0  40.0  0.961617  500.000153      0.051502     0.004999   \n",
      "1          1.0  40.0  0.961617  532.391479      0.032007     0.078029   \n",
      "2          2.0  40.0  0.961617  566.881348      0.018161     0.007917   \n",
      "3          3.0  40.0  0.961617  603.605652      0.027264     0.062389   \n",
      "4          4.0  40.0  0.961617  642.708923      0.017914     0.066380   \n",
      "\n",
      "   X Position  Y Position  Z Position      Radius  \n",
      "0 -163.117371 -499.404175   -0.043571  525.368260  \n",
      "1 -522.738770   35.323952    0.048106  523.930916  \n",
      "2   53.479282 -555.452454   -0.076755  558.021028  \n",
      "3  -78.932930 -595.690186   -0.648642  600.897350  \n",
      "4  424.524689  486.088654    0.563164  645.370984  \n"
     ]
    }
   ],
   "source": [
    "datafilename = '/Users/aribakhan/Desktop/Sonification_Data/datamovies-master/blackholeData.pickle'\n",
    "blackhole_data =  pd.read_pickle(datafilename)\n",
    "print(blackhole_data[0:5])"
   ]
  },
  {
   "cell_type": "code",
   "execution_count": 88,
   "metadata": {},
   "outputs": [
    {
     "name": "stdout",
     "output_type": "stream",
     "text": [
      "         Body Number  Mass          Time  Major Axis  Eccentricity  \\\n",
      "1566530          0.0  40.0  357896.15625  515.010071      0.002673   \n",
      "1566531          1.0  40.0  357896.15625  554.201721      0.000750   \n",
      "1566532          2.0  40.0  357896.15625  593.360962      0.000226   \n",
      "1566533          3.0  40.0  357896.15625  626.412231      0.000968   \n",
      "1566534          4.0  40.0  357896.15625  653.605225      0.001609   \n",
      "1566535          5.0  40.0  357896.15625  672.814880      0.002666   \n",
      "1566536          6.0  40.0  357896.15625  687.295227      0.004497   \n",
      "1566537          7.0  40.0  357896.15625  701.942993      0.001874   \n",
      "1566538          8.0  40.0  357896.15625  719.215210      0.002534   \n",
      "1566539          9.0  40.0  357896.15625  731.584839      0.000703   \n",
      "1566540          0.0  40.0  357897.68750  515.010193      0.002673   \n",
      "1566541          1.0  40.0  357897.68750  554.201660      0.000750   \n",
      "1566542          2.0  40.0  357897.68750  593.361328      0.000226   \n",
      "1566543          3.0  40.0  357897.68750  626.412231      0.000968   \n",
      "1566544          4.0  40.0  357897.68750  653.604980      0.001609   \n",
      "1566545          5.0  40.0  357897.68750  672.815857      0.002664   \n",
      "1566546          6.0  40.0  357897.68750  687.294189      0.004496   \n",
      "1566547          7.0  40.0  357897.68750  701.942993      0.001874   \n",
      "1566548          8.0  40.0  357897.68750  719.214966      0.002534   \n",
      "1566549          9.0  40.0  357897.68750  731.584656      0.000703   \n",
      "1566550          0.0  40.0  357904.34375  515.010559      0.002672   \n",
      "1566551          1.0  40.0  357904.34375  554.201477      0.000750   \n",
      "1566552          2.0  40.0  357904.34375  593.363037      0.000226   \n",
      "1566553          3.0  40.0  357904.34375  626.411987      0.000968   \n",
      "1566554          4.0  40.0  357904.34375  653.603821      0.001608   \n",
      "1566555          5.0  40.0  357904.34375  672.820251      0.002658   \n",
      "1566556          6.0  40.0  357904.34375  687.289551      0.004489   \n",
      "1566557          7.0  40.0  357904.34375  701.943115      0.001875   \n",
      "1566558          8.0  40.0  357904.34375  719.213745      0.002535   \n",
      "1566559          9.0  40.0  357904.34375  731.583801      0.000703   \n",
      "...              ...   ...           ...         ...           ...   \n",
      "1630440          6.0  40.0  383449.18750  686.093445      0.001906   \n",
      "1630441          7.0  40.0  383449.18750  699.036194      0.001639   \n",
      "1630442          8.0  80.0  383449.18750  712.551514      0.001034   \n",
      "1630443          0.0  40.0  383451.21875  516.299500      0.002002   \n",
      "1630444          1.0  40.0  383451.21875  555.907288      0.000457   \n",
      "1630445          2.0  40.0  383451.21875  595.206360      0.000610   \n",
      "1630446          3.0  40.0  383451.21875  627.870850      0.000981   \n",
      "1630447          4.0  40.0  383451.21875  654.138733      0.001412   \n",
      "1630448          5.0  40.0  383451.21875  672.161133      0.002311   \n",
      "1630449          6.0  40.0  383451.21875  686.093323      0.001906   \n",
      "1630450          7.0  40.0  383451.21875  699.036072      0.001639   \n",
      "1630451          8.0  80.0  383451.21875  712.551147      0.001033   \n",
      "1630452          0.0  40.0  383455.31250  516.299866      0.002002   \n",
      "1630453          1.0  40.0  383455.31250  555.907532      0.000458   \n",
      "1630454          2.0  40.0  383455.31250  595.206665      0.000611   \n",
      "1630455          3.0  40.0  383455.31250  627.871094      0.000982   \n",
      "1630456          4.0  40.0  383455.31250  654.138855      0.001411   \n",
      "1630457          5.0  40.0  383455.31250  672.158203      0.002314   \n",
      "1630458          6.0  40.0  383455.31250  686.093079      0.001905   \n",
      "1630459          7.0  40.0  383455.31250  699.035767      0.001638   \n",
      "1630460          8.0  80.0  383455.31250  712.550415      0.001032   \n",
      "1630461          0.0  40.0  383456.62500  516.299988      0.002001   \n",
      "1630462          1.0  40.0  383456.62500  555.907593      0.000458   \n",
      "1630463          2.0  40.0  383456.62500  595.206787      0.000611   \n",
      "1630464          3.0  40.0  383456.62500  627.871155      0.000982   \n",
      "1630465          4.0  40.0  383456.62500  654.138855      0.001411   \n",
      "1630466          5.0  40.0  383456.62500  672.157288      0.002314   \n",
      "1630467          6.0  40.0  383456.62500  686.093018      0.001905   \n",
      "1630468          7.0  40.0  383456.62500  699.035645      0.001638   \n",
      "1630469          8.0  80.0  383456.62500  712.550110      0.001031   \n",
      "\n",
      "         Inclination  X Position  Y Position  Z Position      Radius  \n",
      "1566530     0.002729  233.253693 -460.176300   -0.024042  515.916188  \n",
      "1566531     0.013917 -509.467316 -217.311508   -0.075704  553.878365  \n",
      "1566532     0.000000  593.374084   -4.832417   -0.007349  593.393762  \n",
      "1566533     0.000000  115.882233  616.207703    0.011423  627.009270  \n",
      "1566534     0.000000  649.296021   73.976685    0.000404  653.496650  \n",
      "1566535     0.000000 -661.806396 -130.529800    0.000703  674.555954  \n",
      "1566536     0.000000 -657.235168 -190.597351    0.000057  684.313829  \n",
      "1566537     0.000000  143.877472  685.814270    0.000001  700.743848  \n",
      "1566538     0.000000 -244.488998  678.171936    0.000052  720.896695  \n",
      "1566539     0.000000 -721.892578  119.903168    0.000084  731.782525  \n",
      "1566540     0.002729  243.343933 -454.894897   -0.024147  515.893049  \n",
      "1566541     0.013917 -505.054321 -227.392166   -0.077900  553.883626  \n",
      "1566542     0.000000  593.367798    5.795827   -0.007231  593.396103  \n",
      "1566543     0.000000  105.709732  618.032166    0.011436  627.007420  \n",
      "1566544     0.000000  648.055359   84.029427    0.000452  653.480446  \n",
      "1566545     0.000000 -659.813965 -140.284134    0.000696  674.562159  \n",
      "1566546     0.000000 -654.392578 -200.100204    0.000053  684.302373  \n",
      "1566547     0.000000  134.281693  687.749939    0.000004  700.736435  \n",
      "1566548     0.000000 -253.530975  674.853638    0.000053  720.905949  \n",
      "1566549     0.000000 -723.404907  110.453758    0.000084  731.788694  \n",
      "1566550     0.002729  286.474182 -428.914215   -0.024468  515.785674  \n",
      "1566551     0.013916 -483.176208 -270.841675   -0.087227  553.908358  \n",
      "1566552     0.000000  591.059082   52.726982   -0.006684  593.406246  \n",
      "1566553     0.000000   60.418434  624.079773    0.011453  626.997568  \n",
      "1566554     0.000000  640.707397  128.209518    0.000663  653.409251  \n",
      "1566555     0.000000 -649.282043 -183.023407    0.000666  674.584865  \n",
      "1566556     0.000000 -640.189575 -241.594604    0.000036  684.259194  \n",
      "1566557     0.000000   91.559410  694.698730    0.000016  700.706395  \n",
      "1566558     0.000000 -292.950500  658.740540    0.000061  720.943198  \n",
      "1566559     0.000000 -728.606201   68.462425    0.000085  731.815619  \n",
      "...              ...         ...         ...         ...         ...  \n",
      "1630440     0.000000 -610.679810  311.117157    0.000202  685.363929  \n",
      "1630441     0.000000  681.453735 -150.975174   -0.000169  697.977576  \n",
      "1630442     0.000000 -486.207520 -520.028564    0.000049  711.918155  \n",
      "1630443     0.002550 -460.792694 -234.507416    0.004805  517.033495  \n",
      "1630444     0.012049  507.608795  226.068329    0.068522  555.673990  \n",
      "1630445     0.000000 -154.639969  574.424438    0.006905  594.875580  \n",
      "1630446     0.000000   69.877708 -623.382874   -0.007948  627.287096  \n",
      "1630447     0.000000  419.657959 -502.483917   -0.001621  654.677699  \n",
      "1630448     0.000000 -399.439880 -542.145935    0.000168  673.405103  \n",
      "1630449     0.000000 -616.576599  299.212982    0.000202  685.343061  \n",
      "1630450     0.000000  684.172546 -138.092041   -0.000170  697.969544  \n",
      "1630451     0.000000 -476.610992 -528.847229    0.000048  711.925157  \n",
      "1630452     0.002550 -445.947815 -261.721222    0.003448  517.075866  \n",
      "1630453     0.012049  494.694763  253.071121    0.073519  555.668882  \n",
      "1630454     0.000000 -182.383789  566.219849    0.007121  594.868694  \n",
      "1630455     0.000000   97.803543 -619.607300   -0.007856  627.278837  \n",
      "1630456     0.000000  440.413940 -484.351593   -0.001564  654.645633  \n",
      "1630457     0.000000 -377.230316 -557.781067    0.000142  673.366490  \n",
      "1630458     0.000000 -627.831299  274.710938    0.000201  685.301568  \n",
      "1630459     0.000000  688.942383 -111.797539   -0.000170  697.954366  \n",
      "1630460     0.000000 -456.645935 -546.198669    0.000046  711.939953  \n",
      "1630461     0.002550 -440.815765 -270.300629    0.003008  517.088937  \n",
      "1630462     0.012049  490.222504  261.625946    0.075085  555.667386  \n",
      "1630463     0.000000 -191.241562  563.287659    0.007187  594.866642  \n",
      "1630464     0.000000  106.769470 -618.122986   -0.007823  627.276451  \n",
      "1630465     0.000000  446.942322 -478.319672   -0.001545  654.635125  \n",
      "1630466     0.000000 -369.935516 -562.630310    0.000134  673.353660  \n",
      "1630467     0.000000 -631.254395  266.717316    0.000201  685.288434  \n",
      "1630468     0.000000  690.265747 -103.281563   -0.000170  697.949771  \n",
      "1630469     0.000000 -450.072144 -551.634521    0.000045  711.944927  \n",
      "\n",
      "[63940 rows x 10 columns]\n"
     ]
    }
   ],
   "source": [
    "#specifiy time from \n",
    "new_blackhole_data = blackhole_data.loc[(blackhole_data['Time'] >= 980*365.2) & (blackhole_data['Time'] <= 1050*365.2)]\n",
    "print(new_blackhole_data)"
   ]
  },
  {
   "cell_type": "code",
   "execution_count": 89,
   "metadata": {},
   "outputs": [],
   "source": [
    "time = new_blackhole_data.Time\n",
    "radius = new_blackhole_data.Radius\n",
    "\n",
    "data_dict = {}\n",
    "data_dict['time'] = time\n",
    "\n",
    "\n",
    "data_dict['radius'] = radius"
   ]
  },
  {
   "cell_type": "code",
   "execution_count": 90,
   "metadata": {},
   "outputs": [
    {
     "name": "stdout",
     "output_type": "stream",
     "text": [
      "data duration =  383456.625\n",
      "score duration =  76691.325\n",
      "774.6598484848486\n"
     ]
    }
   ],
   "source": [
    "end = len(time)-1\n",
    "ind_end = 1566530 + end\n",
    "duration_data = time[ind_end]\n",
    "print('data duration = ', str(duration_data))\n",
    "t_start = 0\n",
    "t_end = time[ind_end] \n",
    "n_notes = 100\n",
    "times = np.linspace(t_start,t_end,n_notes)\n",
    "\n",
    "# stretch or shrink time, for the duration of the score-- \n",
    "# but you'll see why we need to keep the original times... \n",
    "\n",
    "stretch = 0.2\n",
    "times_sco = times*stretch\n",
    "print('score duration = ', str(times_sco[-1]))\n",
    "dt = times_sco[2]-times_sco[1]\n",
    "print(dt)"
   ]
  },
  {
   "cell_type": "code",
   "execution_count": 71,
   "metadata": {},
   "outputs": [
    {
     "data": {
      "image/png": "[encoded data removed]",
      "text/plain": [
       "<Figure size 720x576 with 1 Axes>"
      ]
     },
     "metadata": {
      "needs_background": "light"
     },
     "output_type": "display_data"
    }
   ],
   "source": [
    "fig = plt.figure(figsize=(10,8))\n",
    "colors = [(1, 0, 0), (1, 0.749, 0), (1, 1, 0), (0.749, 1, 0), (0, 1, 0), (0, 1, 1), (0, 0, 1),(0.749, 0, 1), (1, 0, 0.749),(0.525, 0.475, 0.475)]\n",
    "colors = np.array(colors)\n",
    "\n",
    "for i in [8,9]: \n",
    "    time = new_blackhole_data.loc[new_blackhole_data['Body Number'] == i, 'Time']\n",
    "    radius = new_blackhole_data.loc[new_blackhole_data['Body Number'] == i, 'Radius']\n",
    "    plt.plot(time/365.2,radius,c=colors[i],label=\"%d\"%i)\n",
    "plt.xlabel('time')\n",
    "plt.ylabel('radius') \n",
    "\n",
    "plt.show()"
   ]
  },
  {
   "cell_type": "code",
   "execution_count": 91,
   "metadata": {},
   "outputs": [
    {
     "name": "stdout",
     "output_type": "stream",
     "text": [
      "[515.91618779 553.87836486 593.39376171 627.00927008 653.49665042\n",
      " 674.55595411 684.31382924 700.74384756 720.89669521 731.78252506]\n",
      "[226.03939295 326.83261689 431.74978845 521.00218981 591.32872702\n",
      " 647.24319972 673.15129482 716.7745705  770.28231542 799.18523855]\n"
     ]
    }
   ],
   "source": [
    "time = np.asarray(time)\n",
    "radius = np.asarray(radius)\n",
    "\n",
    "radius_data_range = np.linspace(min(radius),max(radius),40) # the number of points doesnt matter here ! \n",
    "f_min = 220.\n",
    "f_max = 800.\n",
    "freq_range = np.linspace(f_min,f_max,40)\n",
    "\n",
    "r_f = np.interp(radius,radius_data_range,freq_range)\n",
    "print(radius[0:10])\n",
    "print(r_f[0:10])"
   ]
  },
  {
   "cell_type": "code",
   "execution_count": 92,
   "metadata": {},
   "outputs": [
    {
     "name": "stdout",
     "output_type": "stream",
     "text": [
      "Pitches [764.19327622 764.19327622 764.19327622 764.19327622 764.19327622\n",
      " 764.19327622 764.19327622 764.19327622 764.19327622 764.19327622]\n",
      "TIMES [    0.          3873.29924242  7746.59848485 11619.89772727\n",
      " 15493.1969697  19366.49621212 23239.79545455 27113.09469697\n",
      " 30986.39393939 34859.69318182]\n",
      "TIME [357896.15625 357896.15625 357896.15625 357896.15625 357896.15625\n",
      " 357896.15625 357896.15625 357896.15625 357896.15625 357896.15625]\n",
      "FREQ_RANGE [226.03939295 326.83261689 431.74978845 521.00218981 591.32872702\n",
      " 647.24319972 673.15129482 716.7745705  770.28231542 799.18523855]\n"
     ]
    }
   ],
   "source": [
    "print('Pitches', pitches[0:10])\n",
    "print('TIMES',times[0:10])\n",
    "print('TIME', time[0:10])\n",
    "print('FREQ_RANGE', r_f[0:10])\n",
    "pitches = np.interp(times, time,r_f)\n"
   ]
  },
  {
   "cell_type": "code",
   "execution_count": 101,
   "metadata": {},
   "outputs": [
    {
     "data": {
      "text/plain": [
       "Text(0, 0.5, 'pitches (Radius)')"
      ]
     },
     "execution_count": 101,
     "metadata": {},
     "output_type": "execute_result"
    },
    {
     "data": {
      "image/png": "[encoded data removed]",
      "text/plain": [
       "<Figure size 720x576 with 1 Axes>"
      ]
     },
     "metadata": {
      "needs_background": "light"
     },
     "output_type": "display_data"
    }
   ],
   "source": [
    "fig = plt.figure(figsize=(10,8))\n",
    "time_tmp = np.linspace(times_sco[0],times_sco[-1],len(r_f))\n",
    "plt.plot(time_tmp[0:10],r_f[0:10],'r-')\n",
    "#plt.plot(times_sco[0:10],pitches[0:10],'ko')\n",
    "#for ind,t in enumerate(times_sco):\n",
    "#plt.plot([t,t],[f_min,pitches[ind]],'k-', linewidth=0.5)\n",
    "    \n",
    "plt.xlabel('score time')\n",
    "plt.ylabel('pitches (Radius)')"
   ]
  },
  {
   "cell_type": "code",
   "execution_count": 99,
   "metadata": {},
   "outputs": [
    {
     "name": "stdout",
     "output_type": "stream",
     "text": [
      "(63940,)\n",
      "(63940,)\n"
     ]
    }
   ],
   "source": [
    "print(np.shape(time_tmp))\n",
    "print(np.shape(r_f))"
   ]
  },
  {
   "cell_type": "code",
   "execution_count": null,
   "metadata": {},
   "outputs": [],
   "source": []
  }
 ],
 "metadata": {
  "kernelspec": {
   "display_name": "Python 3",
   "language": "python",
   "name": "python3"
  },
  "language_info": {
   "codemirror_mode": {
    "name": "ipython",
    "version": 3
   },
   "file_extension": ".py",
   "mimetype": "text/x-python",
   "name": "python",
   "nbconvert_exporter": "python",
   "pygments_lexer": "ipython3",
   "version": "3.7.2"
  }
 },
 "nbformat": 4,
 "nbformat_minor": 2
}
